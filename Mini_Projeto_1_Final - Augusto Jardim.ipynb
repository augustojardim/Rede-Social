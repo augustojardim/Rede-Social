{
 "cells": [
  {
   "cell_type": "code",
   "execution_count": 1,
   "id": "4252aa2d-1739-478e-aa74-d3d8005339ee",
   "metadata": {},
   "outputs": [],
   "source": [
    "class Usuario:\n",
    "    '''\n",
    "    Cria a representação de um\n",
    "    usuário de uma rede social\n",
    "    '''\n",
    "    def __init__(self, nome, data_nascimento, email, apelido = None):\n",
    "        '''\n",
    "        Construtor\n",
    "        Parâmetros\n",
    "        ----------\n",
    "        nome : str\n",
    "            nome associado ao usuario\n",
    "        data_nascimento : str\n",
    "            data de nascimento do usuario\n",
    "        email : str\n",
    "            email associado ao usuario\n",
    "        apelido : str, opcional\n",
    "            apelido do usuario\n",
    "        '''\n",
    "        self.nome = nome\n",
    "        self.data_nascimento = data_nascimento\n",
    "        self.email = email\n",
    "        \n",
    "        #Atributo criado no construtor\n",
    "        self.quantidade_amigos = 0\n",
    "        self.posts = []\n",
    "        self.lista_amigos = []\n",
    "        self.lista_interesses = []\n",
    "        #Atributo criado que tem valor padrão\n",
    "        self.apelido = apelido\n",
    "        \n",
    "    \n",
    "    def adicionar_amigo(self, nome_amigo):\n",
    "        '''        \n",
    "        Adiciona um amigo a lista de amigos do usuário\n",
    "        Parâmetro\n",
    "        ----------\n",
    "        nome_amigo : objeto\n",
    "            Nome do objeto que refere-se ao amigo\n",
    "        '''        \n",
    "        if (nome_amigo not in self.lista_amigos) and (nome_amigo.nome != self.nome):\n",
    "            self.lista_amigos.append(nome_amigo)\n",
    "            nome_amigo.lista_amigos.append(self)\n",
    "            print('Amigo adicionado com sucesso!')\n",
    "        else:\n",
    "            print('Erro!\\nVocê já possui esse amigo em sua lista ou está tentando se adicionar!')    \n",
    "    \n",
    "    def mostra_lista_amigos(self):\n",
    "        print(f'A lista de amigos de {self.nome} é composta por: ')\n",
    "        for amigos in self.lista_amigos:\n",
    "            print(amigos.nome)\n",
    "            \n",
    "    def calcula_amigos(self): #A função calcula_amigo transforma atualiza o valor do atributo da quantida_amigos\n",
    "        self.quantidade_amigos = len(self.lista_amigos)\n",
    "            \n",
    "    def mostra_quantidade_amigos(self):\n",
    "        print(self.quantidade_amigos)\n",
    "        \n",
    "    def procura_amigo(self, nome_procurado):\n",
    "        '''\n",
    "        Verifica se um amigo está presente na lista de amigos\n",
    "        Parâmetro\n",
    "        ---------\n",
    "        nome_procurado : str\n",
    "            Nome do amigo que deseja verificar se está na lista de amigos\n",
    "        '''\n",
    "        nome_procurado = nome_procurado.lower()\n",
    "        lista_amizade = []\n",
    "        for amigos in self.lista_amigos:\n",
    "            lista_amizade.append(amigos.nome.lower())   \n",
    "        if (nome_procurado in lista_amizade):\n",
    "            print('Esse nome consta na sua lista de amigos!')\n",
    "        else:\n",
    "            print('Amigo não encontrado!')\n",
    "            \n",
    "    def adicionar_interesse(self, interesse):\n",
    "        '''\n",
    "        Adiciona um interesse à lista de interesses\n",
    "        Parâmetro\n",
    "        ----------\n",
    "        interesse : str\n",
    "            Interesse que será adicionado à lista de interesses\n",
    "        '''\n",
    "        interesse = interesse.lower()\n",
    "        if (interesse not in self.lista_interesses):\n",
    "            self.lista_interesses.append(interesse)\n",
    "            print('Interesse adicionado com sucesso!')\n",
    "        else:\n",
    "            print('Interesse já consta na lista!')\n",
    "    \n",
    "    def postar(self,posts):\n",
    "        '''\n",
    "        Faz um post do usuário\n",
    "        Parâmetro\n",
    "        ----------\n",
    "        posts : str\n",
    "            Post a ser feito pelo usuário\n",
    "        '''\n",
    "        self.posts.append(posts)\n",
    "        #return True\n",
    "    \n",
    "    def calcula_quantidade_posts(self):\n",
    "        self.quantidade_posts = len(self.posts)\n",
    "        #return self.quantidade_posts\n",
    "    \n",
    "    def imprime_quantidade_posts(self):\n",
    "        print(self.quantidade_posts)\n",
    "    \n",
    "    def mostra_post_amigos(self, Usuario):\n",
    "        '''        \n",
    "        Mostra todos os posts de outro usuario que está na lista de amigos\n",
    "        Parâmetro\n",
    "        ----------\n",
    "        Usuario : objeto\n",
    "            Usuario do qual se deseja ver todos os posts\n",
    "        ''' \n",
    "        if Usuario in self.lista_amigos:\n",
    "            print(f'Os posts do seu amigo {Usuario.nome} foram: ')\n",
    "            for postagens in Usuario.posts:\n",
    "                print(postagens)\n",
    "        else:\n",
    "            print(f'{Usuario.nome} não está em sua lista de amigos. Portanto seus posts não serão mostrados.')\n",
    "    \n",
    "    def procura_post(self,palavra):\n",
    "        '''\n",
    "        Mostra todos os posts do usuario com determinada palavra\n",
    "        Parâmetro\n",
    "        -----------\n",
    "        palavra : str\n",
    "            Palavra buscada no post\n",
    "        '''\n",
    "#         print(f\"Os seus posts com a palavra '{palavra}' foram:\")\n",
    "#         for i in range(self.quantidade_posts):\n",
    "#             if palavra in self.posts[i]:\n",
    "#                 print(self.posts[i])        \n",
    "        palavra = palavra.lower()    \n",
    "        lista_posts = []\n",
    "        lista_exibir = []\n",
    "        for posts in self.posts:\n",
    "            lista_posts.append(posts.lower())\n",
    "        for i in range(len(lista_posts)):\n",
    "            if palavra in lista_posts[i]:\n",
    "                lista_exibir.append(lista_posts[i])\n",
    "        if (len(lista_exibir)==0):\n",
    "            print(f\"Não foram encontrados posts com a palavra '{palavra}'\")\n",
    "            \n",
    "        else:\n",
    "            print(f\"Os seus posts com a palavra '{palavra}' foram:\")\n",
    "            for j in range(len(lista_exibir)):\n",
    "                print(lista_exibir[j])\n",
    "\n",
    "          "
   ]
  },
  {
   "cell_type": "code",
   "execution_count": 2,
   "id": "600375d5-eec4-4a34-a184-d52fadfdecbd",
   "metadata": {},
   "outputs": [],
   "source": [
    "User1 = Usuario(nome = 'Augusto',\n",
    "                  data_nascimento = '06/11/1992',\n",
    "                 email = 'augusto@email.com')\n",
    "User2 = Usuario(nome = 'Joeise',\n",
    "                  data_nascimento = '15/01/1998',\n",
    "                 email = 'joeise@email.com')\n",
    "User3 = Usuario(nome = 'Jolie',\n",
    "               data_nascimento = '01/10/2019',\n",
    "               email = 'jolie@email.com')"
   ]
  },
  {
   "cell_type": "code",
   "execution_count": 3,
   "id": "87864ced-2a0c-4a07-a346-5343ae7a71e2",
   "metadata": {},
   "outputs": [
    {
     "name": "stdout",
     "output_type": "stream",
     "text": [
      "Erro!\n",
      "Você já possui esse amigo em sua lista ou está tentando se adicionar!\n"
     ]
    }
   ],
   "source": [
    "# Teste para ver se o Usuário consegue se adicionar\n",
    "User1.adicionar_amigo(User1)\n"
   ]
  },
  {
   "cell_type": "code",
   "execution_count": 4,
   "id": "cb1b7979-e3af-4a81-a15c-cde76b1dfc12",
   "metadata": {},
   "outputs": [
    {
     "name": "stdout",
     "output_type": "stream",
     "text": [
      "Amigo adicionado com sucesso!\n",
      "A lista de amigos de Augusto é composta por: \n",
      "Joeise\n",
      "A lista de amigos de Joeise é composta por: \n",
      "Augusto\n"
     ]
    }
   ],
   "source": [
    "# Teste para ver se o Usuário consegue adicionar outro e se o mesmo consta na lista de amigos dele\n",
    "# e se ele consta na lista do adicionado\n",
    "User1.adicionar_amigo(User2)\n",
    "User1.mostra_lista_amigos()\n",
    "User2.mostra_lista_amigos()"
   ]
  },
  {
   "cell_type": "code",
   "execution_count": 5,
   "id": "0de98930-bf06-49b4-8a67-edb6da050036",
   "metadata": {},
   "outputs": [
    {
     "name": "stdout",
     "output_type": "stream",
     "text": [
      "Erro!\n",
      "Você já possui esse amigo em sua lista ou está tentando se adicionar!\n"
     ]
    }
   ],
   "source": [
    "# Teste para ver se o Usuário consegue adicionar o mesmo amigo mais de uma vez\n",
    "# Teste realizado após a execução da celula anterior\n",
    "User1.adicionar_amigo(User2)"
   ]
  },
  {
   "cell_type": "code",
   "execution_count": 6,
   "id": "8d0fd052-e7cb-43a3-9964-373e9ca0e342",
   "metadata": {},
   "outputs": [
    {
     "name": "stdout",
     "output_type": "stream",
     "text": [
      "Amigo adicionado com sucesso!\n"
     ]
    }
   ],
   "source": [
    "# Teste para adicionar novo amigo\n",
    "User1.adicionar_amigo(User3)\n",
    "\n"
   ]
  },
  {
   "cell_type": "code",
   "execution_count": 7,
   "id": "31b0c60d-0750-463d-bae5-86f578b0a8e4",
   "metadata": {},
   "outputs": [
    {
     "name": "stdout",
     "output_type": "stream",
     "text": [
      "2\n"
     ]
    }
   ],
   "source": [
    "# Teste para calculo de amigos e para mostrar a quantidade de amigos\n",
    "User1.calcula_amigos()\n",
    "User1.mostra_quantidade_amigos()"
   ]
  },
  {
   "cell_type": "code",
   "execution_count": 8,
   "id": "4a2d8b48-0c1f-42c7-b96a-3ccae26012c6",
   "metadata": {},
   "outputs": [
    {
     "name": "stdout",
     "output_type": "stream",
     "text": [
      "Esse nome consta na sua lista de amigos!\n"
     ]
    }
   ],
   "source": [
    "# Teste do método procura_amigo\n",
    "User1.procura_amigo('joeIse')\n"
   ]
  },
  {
   "cell_type": "code",
   "execution_count": 9,
   "id": "bd83abf6-bf2c-488f-b445-e934332e938d",
   "metadata": {},
   "outputs": [
    {
     "name": "stdout",
     "output_type": "stream",
     "text": [
      "Amigo não encontrado!\n"
     ]
    }
   ],
   "source": [
    "User1.procura_amigo('marcos')"
   ]
  },
  {
   "cell_type": "code",
   "execution_count": 10,
   "id": "863c5e81-495c-49dd-af1b-2917c651adbb",
   "metadata": {},
   "outputs": [
    {
     "name": "stdout",
     "output_type": "stream",
     "text": [
      "Esse nome consta na sua lista de amigos!\n"
     ]
    }
   ],
   "source": [
    "# Mostrando que método procura_amigo não é case sensitive\n",
    "User1.procura_amigo('JoeIse')"
   ]
  },
  {
   "cell_type": "code",
   "execution_count": 11,
   "id": "36e2c2a3-5a95-46dd-a7cf-d384520863db",
   "metadata": {},
   "outputs": [
    {
     "name": "stdout",
     "output_type": "stream",
     "text": [
      "Interesse adicionado com sucesso!\n"
     ]
    },
    {
     "data": {
      "text/plain": [
       "['cinema']"
      ]
     },
     "execution_count": 11,
     "metadata": {},
     "output_type": "execute_result"
    }
   ],
   "source": [
    "# Teste para adicionar interesse\n",
    "# Lista de interesses sendo mostrada chamando o atributo do objeto\n",
    "User1.adicionar_interesse('Cinema')\n",
    "User1.lista_interesses"
   ]
  },
  {
   "cell_type": "code",
   "execution_count": 12,
   "id": "4ce689e4-9d85-4f1e-969b-8ec21cee2780",
   "metadata": {},
   "outputs": [
    {
     "name": "stdout",
     "output_type": "stream",
     "text": [
      "Interesse já consta na lista!\n"
     ]
    }
   ],
   "source": [
    "# Teste para mostrar que adicionar_interesse não é case sensitive\n",
    "# E que mostra que um determinado interesse que está na lista não \n",
    "# pode ser adicionado novamente\n",
    "User1.adicionar_interesse('ciNEma')"
   ]
  },
  {
   "cell_type": "code",
   "execution_count": 13,
   "id": "22ab6f4e-5b87-4a32-acda-6e8535d7fcea",
   "metadata": {},
   "outputs": [],
   "source": [
    "User1.postar('Boa noite!')\n",
    "User1.postar('Olá, tudo bem?')\n",
    "User1.postar('Olá, mundo!')\n",
    "User1.postar('olá, universo!')"
   ]
  },
  {
   "cell_type": "code",
   "execution_count": 14,
   "id": "b6e915fd-5094-4946-a9db-18fbee567e94",
   "metadata": {},
   "outputs": [
    {
     "name": "stdout",
     "output_type": "stream",
     "text": [
      "4\n"
     ]
    }
   ],
   "source": [
    "User1.calcula_quantidade_posts()\n",
    "User1.imprime_quantidade_posts()"
   ]
  },
  {
   "cell_type": "code",
   "execution_count": 15,
   "id": "ed45f649-ab42-4557-b14d-63b98262853e",
   "metadata": {},
   "outputs": [
    {
     "name": "stdout",
     "output_type": "stream",
     "text": [
      "A lista de amigos de Jolie é composta por: \n",
      "Augusto\n"
     ]
    }
   ],
   "source": [
    "User3.mostra_lista_amigos()"
   ]
  },
  {
   "cell_type": "code",
   "execution_count": 16,
   "id": "5324bf03-ff6f-4185-a1b3-8183276543d7",
   "metadata": {},
   "outputs": [
    {
     "name": "stdout",
     "output_type": "stream",
     "text": [
      "Os posts do seu amigo Augusto foram: \n",
      "Boa noite!\n",
      "Olá, tudo bem?\n",
      "Olá, mundo!\n",
      "olá, universo!\n"
     ]
    }
   ],
   "source": [
    "#Teste método de mostra posts de amigo\n",
    "User3.mostra_post_amigos(User1)"
   ]
  },
  {
   "cell_type": "code",
   "execution_count": 17,
   "id": "41a3b541-34c1-4186-9bc8-d63eb2f21be3",
   "metadata": {},
   "outputs": [
    {
     "name": "stdout",
     "output_type": "stream",
     "text": [
      "Joeise não está em sua lista de amigos. Portanto seus posts não serão mostrados.\n"
     ]
    }
   ],
   "source": [
    "# Teste para mostrar que o método não retornará os posts de pessoas que não estão\n",
    "# na lista de amigos\n",
    "User3.mostra_post_amigos(User2)"
   ]
  },
  {
   "cell_type": "code",
   "execution_count": 18,
   "id": "1426b832-7787-48b0-bd02-af6d02844138",
   "metadata": {},
   "outputs": [
    {
     "name": "stdout",
     "output_type": "stream",
     "text": [
      "Os seus posts com a palavra 'olá' foram:\n",
      "olá, tudo bem?\n",
      "olá, mundo!\n",
      "olá, universo!\n"
     ]
    }
   ],
   "source": [
    "#Teste procura_post\n",
    "#Não depende do calcula_quantidade_post\n",
    "User1.procura_post('olá')"
   ]
  },
  {
   "cell_type": "code",
   "execution_count": 19,
   "id": "2706db7f-8257-40cb-8977-ef37a04efa64",
   "metadata": {},
   "outputs": [
    {
     "name": "stdout",
     "output_type": "stream",
     "text": [
      "Não foram encontrados posts com a palavra 'amanha'\n"
     ]
    }
   ],
   "source": [
    "#Teste procura_post\n",
    "#Exibirá mensagem de que nenhum post foi encontrado\n",
    "User1.procura_post('amanha')"
   ]
  }
 ],
 "metadata": {
  "kernelspec": {
   "display_name": "Python 3",
   "language": "python",
   "name": "python3"
  },
  "language_info": {
   "codemirror_mode": {
    "name": "ipython",
    "version": 3
   },
   "file_extension": ".py",
   "mimetype": "text/x-python",
   "name": "python",
   "nbconvert_exporter": "python",
   "pygments_lexer": "ipython3",
   "version": "3.8.8"
  }
 },
 "nbformat": 4,
 "nbformat_minor": 5
}
